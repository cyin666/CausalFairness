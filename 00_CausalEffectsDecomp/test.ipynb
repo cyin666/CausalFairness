{
 "cells": [
  {
   "cell_type": "code",
   "execution_count": 16,
   "id": "7797e61e",
   "metadata": {},
   "outputs": [],
   "source": [
    "import sys\n",
    "import pandas as pd\n",
    "import numpy as np"
   ]
  },
  {
   "cell_type": "code",
   "execution_count": 17,
   "id": "c0139ace",
   "metadata": {},
   "outputs": [],
   "source": [
    "from econml.grf import CausalForest"
   ]
  },
  {
   "cell_type": "code",
   "execution_count": 18,
   "id": "52e4581c",
   "metadata": {},
   "outputs": [],
   "source": [
    "#del sys.modules[\"ci_helpers\"]\n",
    "from ci_helpers import msd_one, msd_two, msd_three, inh_str"
   ]
  },
  {
   "cell_type": "code",
   "execution_count": 19,
   "id": "0bd2409c",
   "metadata": {},
   "outputs": [],
   "source": [
    "#del sys.modules[\"causal_forest\"]\n",
    "from causal_forest import ci_crf"
   ]
  },
  {
   "cell_type": "code",
   "execution_count": 20,
   "id": "d44ff5d7",
   "metadata": {},
   "outputs": [],
   "source": [
    "#del sys.modules[\"decompositions\"]\n",
    "import decompositions"
   ]
  },
  {
   "cell_type": "code",
   "execution_count": 26,
   "id": "594551f1",
   "metadata": {},
   "outputs": [],
   "source": [
    "data_gov = pd.read_csv('E:/PhD/01_causalfairness/00_codes/gov_census.csv',index_col=0)"
   ]
  },
  {
   "cell_type": "markdown",
   "id": "bb184ba0",
   "metadata": {},
   "source": [
    "- ci_helper"
   ]
  },
  {
   "cell_type": "code",
   "execution_count": 27,
   "id": "1a7ad4d4",
   "metadata": {},
   "outputs": [],
   "source": [
    "y = np.arange(0,10)"
   ]
  },
  {
   "cell_type": "code",
   "execution_count": 28,
   "id": "56288a12",
   "metadata": {},
   "outputs": [],
   "source": [
    "boots = {1:{'all':np.arange(0,10),'id0':[0,1,2],'id1':[3,4,5,6,7,8,9]},\n",
    "         2:{'all':np.array([0,1,1,2,3,5,6,7,4,9]),'id0':[0,1,1,2],'id1':[3,5,6,7,4,9]}}"
   ]
  },
  {
   "cell_type": "code",
   "execution_count": 29,
   "id": "c80b24a9",
   "metadata": {},
   "outputs": [
    {
     "data": {
      "text/html": [
       "<div>\n",
       "<style scoped>\n",
       "    .dataframe tbody tr th:only-of-type {\n",
       "        vertical-align: middle;\n",
       "    }\n",
       "\n",
       "    .dataframe tbody tr th {\n",
       "        vertical-align: top;\n",
       "    }\n",
       "\n",
       "    .dataframe thead th {\n",
       "        text-align: right;\n",
       "    }\n",
       "</style>\n",
       "<table border=\"1\" class=\"dataframe\">\n",
       "  <thead>\n",
       "    <tr style=\"text-align: right;\">\n",
       "      <th></th>\n",
       "      <th>boot</th>\n",
       "      <th>value</th>\n",
       "      <th>measure</th>\n",
       "    </tr>\n",
       "  </thead>\n",
       "  <tbody>\n",
       "    <tr>\n",
       "      <th>0</th>\n",
       "      <td>0</td>\n",
       "      <td>1.0</td>\n",
       "      <td>te</td>\n",
       "    </tr>\n",
       "    <tr>\n",
       "      <th>1</th>\n",
       "      <td>1</td>\n",
       "      <td>1.0</td>\n",
       "      <td>te</td>\n",
       "    </tr>\n",
       "  </tbody>\n",
       "</table>\n",
       "</div>"
      ],
      "text/plain": [
       "   boot  value measure\n",
       "0     0    1.0      te\n",
       "1     1    1.0      te"
      ]
     },
     "execution_count": 29,
     "metadata": {},
     "output_type": "execute_result"
    }
   ],
   "source": [
    "msd_one(y,\"id0\",\"te\",boots)"
   ]
  },
  {
   "cell_type": "code",
   "execution_count": 30,
   "id": "cac20251",
   "metadata": {},
   "outputs": [
    {
     "data": {
      "text/html": [
       "<div>\n",
       "<style scoped>\n",
       "    .dataframe tbody tr th:only-of-type {\n",
       "        vertical-align: middle;\n",
       "    }\n",
       "\n",
       "    .dataframe tbody tr th {\n",
       "        vertical-align: top;\n",
       "    }\n",
       "\n",
       "    .dataframe thead th {\n",
       "        text-align: right;\n",
       "    }\n",
       "</style>\n",
       "<table border=\"1\" class=\"dataframe\">\n",
       "  <thead>\n",
       "    <tr style=\"text-align: right;\">\n",
       "      <th></th>\n",
       "      <th>boot</th>\n",
       "      <th>value</th>\n",
       "      <th>measure</th>\n",
       "    </tr>\n",
       "  </thead>\n",
       "  <tbody>\n",
       "    <tr>\n",
       "      <th>0</th>\n",
       "      <td>0</td>\n",
       "      <td>-5.000000</td>\n",
       "      <td>te</td>\n",
       "    </tr>\n",
       "    <tr>\n",
       "      <th>1</th>\n",
       "      <td>1</td>\n",
       "      <td>-4.666667</td>\n",
       "      <td>te</td>\n",
       "    </tr>\n",
       "  </tbody>\n",
       "</table>\n",
       "</div>"
      ],
      "text/plain": [
       "   boot     value measure\n",
       "0     0 -5.000000      te\n",
       "1     1 -4.666667      te"
      ]
     },
     "execution_count": 30,
     "metadata": {},
     "output_type": "execute_result"
    }
   ],
   "source": [
    "msd_two(y,\"id0\",-y,\"id1\",\"te\",boots)"
   ]
  },
  {
   "cell_type": "code",
   "execution_count": 31,
   "id": "02eed322",
   "metadata": {},
   "outputs": [
    {
     "data": {
      "text/plain": [
       "-5.0"
      ]
     },
     "execution_count": 31,
     "metadata": {},
     "output_type": "execute_result"
    }
   ],
   "source": [
    "np.mean([0,1,2])-np.mean([3,4,5,6,7,8,9])"
   ]
  },
  {
   "cell_type": "code",
   "execution_count": 32,
   "id": "80b584b4",
   "metadata": {},
   "outputs": [
    {
     "data": {
      "text/plain": [
       "-4.666666666666667"
      ]
     },
     "execution_count": 32,
     "metadata": {},
     "output_type": "execute_result"
    }
   ],
   "source": [
    "np.mean([0,1,1,2])-np.mean([3,5,6,7,4,9])"
   ]
  },
  {
   "cell_type": "code",
   "execution_count": 33,
   "id": "aa590ba2",
   "metadata": {},
   "outputs": [
    {
     "data": {
      "text/html": [
       "<div>\n",
       "<style scoped>\n",
       "    .dataframe tbody tr th:only-of-type {\n",
       "        vertical-align: middle;\n",
       "    }\n",
       "\n",
       "    .dataframe tbody tr th {\n",
       "        vertical-align: top;\n",
       "    }\n",
       "\n",
       "    .dataframe thead th {\n",
       "        text-align: right;\n",
       "    }\n",
       "</style>\n",
       "<table border=\"1\" class=\"dataframe\">\n",
       "  <thead>\n",
       "    <tr style=\"text-align: right;\">\n",
       "      <th></th>\n",
       "      <th>boot</th>\n",
       "      <th>value</th>\n",
       "      <th>measure</th>\n",
       "    </tr>\n",
       "  </thead>\n",
       "  <tbody>\n",
       "    <tr>\n",
       "      <th>0</th>\n",
       "      <td>0</td>\n",
       "      <td>1.0</td>\n",
       "      <td>te</td>\n",
       "    </tr>\n",
       "    <tr>\n",
       "      <th>1</th>\n",
       "      <td>1</td>\n",
       "      <td>1.0</td>\n",
       "      <td>te</td>\n",
       "    </tr>\n",
       "  </tbody>\n",
       "</table>\n",
       "</div>"
      ],
      "text/plain": [
       "   boot  value measure\n",
       "0     0    1.0      te\n",
       "1     1    1.0      te"
      ]
     },
     "execution_count": 33,
     "metadata": {},
     "output_type": "execute_result"
    }
   ],
   "source": [
    "msd_three(y,\"id0\",-y,\"id1\",y,\"id1\",\"te\",boots)"
   ]
  },
  {
   "cell_type": "code",
   "execution_count": 34,
   "id": "ac2daf75",
   "metadata": {},
   "outputs": [],
   "source": [
    "df_cihelpher = msd_three(y,\"id0\",-y,\"id1\",y,\"id1\",\"te\",boots)"
   ]
  },
  {
   "cell_type": "code",
   "execution_count": 35,
   "id": "5a79c462",
   "metadata": {},
   "outputs": [
    {
     "data": {
      "text/html": [
       "<div>\n",
       "<style scoped>\n",
       "    .dataframe tbody tr th:only-of-type {\n",
       "        vertical-align: middle;\n",
       "    }\n",
       "\n",
       "    .dataframe tbody tr th {\n",
       "        vertical-align: top;\n",
       "    }\n",
       "\n",
       "    .dataframe thead th {\n",
       "        text-align: right;\n",
       "    }\n",
       "</style>\n",
       "<table border=\"1\" class=\"dataframe\">\n",
       "  <thead>\n",
       "    <tr style=\"text-align: right;\">\n",
       "      <th></th>\n",
       "      <th>boot</th>\n",
       "      <th>value</th>\n",
       "      <th>measure</th>\n",
       "    </tr>\n",
       "  </thead>\n",
       "  <tbody>\n",
       "    <tr>\n",
       "      <th>0</th>\n",
       "      <td>0</td>\n",
       "      <td>1.0</td>\n",
       "      <td>te</td>\n",
       "    </tr>\n",
       "    <tr>\n",
       "      <th>1</th>\n",
       "      <td>1</td>\n",
       "      <td>1.0</td>\n",
       "      <td>te</td>\n",
       "    </tr>\n",
       "  </tbody>\n",
       "</table>\n",
       "</div>"
      ],
      "text/plain": [
       "   boot  value measure\n",
       "0     0    1.0      te\n",
       "1     1    1.0      te"
      ]
     },
     "execution_count": 35,
     "metadata": {},
     "output_type": "execute_result"
    }
   ],
   "source": [
    "df_cihelpher"
   ]
  },
  {
   "cell_type": "code",
   "execution_count": 36,
   "id": "83402df6",
   "metadata": {},
   "outputs": [
    {
     "data": {
      "text/html": [
       "<div>\n",
       "<style scoped>\n",
       "    .dataframe tbody tr th:only-of-type {\n",
       "        vertical-align: middle;\n",
       "    }\n",
       "\n",
       "    .dataframe tbody tr th {\n",
       "        vertical-align: top;\n",
       "    }\n",
       "\n",
       "    .dataframe thead th {\n",
       "        text-align: right;\n",
       "    }\n",
       "</style>\n",
       "<table border=\"1\" class=\"dataframe\">\n",
       "  <thead>\n",
       "    <tr style=\"text-align: right;\">\n",
       "      <th></th>\n",
       "      <th>boot</th>\n",
       "      <th>value</th>\n",
       "      <th>measure</th>\n",
       "    </tr>\n",
       "  </thead>\n",
       "  <tbody>\n",
       "    <tr>\n",
       "      <th>0</th>\n",
       "      <td>0</td>\n",
       "      <td>0</td>\n",
       "      <td>ctfde</td>\n",
       "    </tr>\n",
       "    <tr>\n",
       "      <th>1</th>\n",
       "      <td>1</td>\n",
       "      <td>0</td>\n",
       "      <td>ctfde</td>\n",
       "    </tr>\n",
       "  </tbody>\n",
       "</table>\n",
       "</div>"
      ],
      "text/plain": [
       "   boot  value measure\n",
       "0     0      0   ctfde\n",
       "1     1      0   ctfde"
      ]
     },
     "execution_count": 36,
     "metadata": {},
     "output_type": "execute_result"
    }
   ],
   "source": [
    "inh_str(df_cihelpher,\"ctfde\",set0=True)"
   ]
  },
  {
   "cell_type": "code",
   "execution_count": 37,
   "id": "5f2974c5",
   "metadata": {},
   "outputs": [
    {
     "data": {
      "text/html": [
       "<div>\n",
       "<style scoped>\n",
       "    .dataframe tbody tr th:only-of-type {\n",
       "        vertical-align: middle;\n",
       "    }\n",
       "\n",
       "    .dataframe tbody tr th {\n",
       "        vertical-align: top;\n",
       "    }\n",
       "\n",
       "    .dataframe thead th {\n",
       "        text-align: right;\n",
       "    }\n",
       "</style>\n",
       "<table border=\"1\" class=\"dataframe\">\n",
       "  <thead>\n",
       "    <tr style=\"text-align: right;\">\n",
       "      <th></th>\n",
       "      <th>boot</th>\n",
       "      <th>value</th>\n",
       "      <th>measure</th>\n",
       "    </tr>\n",
       "  </thead>\n",
       "  <tbody>\n",
       "    <tr>\n",
       "      <th>0</th>\n",
       "      <td>0</td>\n",
       "      <td>NaN</td>\n",
       "      <td>ctfde</td>\n",
       "    </tr>\n",
       "    <tr>\n",
       "      <th>1</th>\n",
       "      <td>1</td>\n",
       "      <td>NaN</td>\n",
       "      <td>ctfde</td>\n",
       "    </tr>\n",
       "  </tbody>\n",
       "</table>\n",
       "</div>"
      ],
      "text/plain": [
       "   boot  value measure\n",
       "0     0    NaN   ctfde\n",
       "1     1    NaN   ctfde"
      ]
     },
     "execution_count": 37,
     "metadata": {},
     "output_type": "execute_result"
    }
   ],
   "source": [
    "inh_str(df_cihelpher,\"ctfde\",set0=True,setna=True)"
   ]
  },
  {
   "cell_type": "markdown",
   "id": "e1419c25",
   "metadata": {},
   "source": [
    "- causal forest"
   ]
  },
  {
   "cell_type": "code",
   "execution_count": 38,
   "id": "28e4f2b9",
   "metadata": {},
   "outputs": [],
   "source": [
    "test = 1 if False else 2"
   ]
  },
  {
   "cell_type": "code",
   "execution_count": 39,
   "id": "1f1d3665",
   "metadata": {},
   "outputs": [
    {
     "data": {
      "text/plain": [
       "2"
      ]
     },
     "execution_count": 39,
     "metadata": {},
     "output_type": "execute_result"
    }
   ],
   "source": [
    "test"
   ]
  },
  {
   "cell_type": "code",
   "execution_count": 40,
   "id": "a38b422a",
   "metadata": {},
   "outputs": [
    {
     "data": {
      "text/plain": [
       "array([1, 1])"
      ]
     },
     "execution_count": 40,
     "metadata": {},
     "output_type": "execute_result"
    }
   ],
   "source": [
    "np.random.randint(0,df_cihelpher.shape[0],df_cihelpher.shape[0])"
   ]
  },
  {
   "cell_type": "code",
   "execution_count": 41,
   "id": "583ba464",
   "metadata": {},
   "outputs": [
    {
     "data": {
      "text/plain": [
       "2"
      ]
     },
     "execution_count": 41,
     "metadata": {},
     "output_type": "execute_result"
    }
   ],
   "source": [
    "df_cihelpher.shape[0]"
   ]
  },
  {
   "cell_type": "code",
   "execution_count": 42,
   "id": "e7198724",
   "metadata": {},
   "outputs": [
    {
     "data": {
      "text/plain": [
       "array([0, 1])"
      ]
     },
     "execution_count": 42,
     "metadata": {},
     "output_type": "execute_result"
    }
   ],
   "source": [
    "np.arange(0,df_cihelpher.shape[0])"
   ]
  },
  {
   "cell_type": "code",
   "execution_count": 43,
   "id": "d4a9f9df",
   "metadata": {},
   "outputs": [],
   "source": [
    "data_gov_head = data_gov.head(10)"
   ]
  },
  {
   "cell_type": "code",
   "execution_count": 44,
   "id": "946eddac",
   "metadata": {},
   "outputs": [
    {
     "name": "stdout",
     "output_type": "stream",
     "text": [
      "10\n"
     ]
    }
   ],
   "source": [
    "data = data_gov_head\n",
    "nrow_df = data.shape[0]\n",
    "print(data.shape[0])\n",
    "rep = 1\n",
    "nboot = 5\n",
    "x0=\"female\"\n",
    "X = \"sex\"\n",
    "\n",
    "boot_samp = np.random.randint(0,nrow_df,nrow_df) if rep>1 else np.arange(0,nrow_df)  \n",
    "boot_data = data.iloc[boot_samp,:].reset_index(drop=True)\n",
    "\n",
    "nrow_boot_df = boot_data.shape[0]\n",
    "boots = dict.fromkeys(np.arange(nboot))\n",
    "for key in boots:\n",
    "    boots[key] = dict.fromkeys([\"all\",\"id0\",\"id1\"])\n",
    "    ind = np.random.randint(0,nrow_boot_df,nrow_boot_df)\n",
    "\n",
    "    idx0 = boot_data[X][ind] == x0\n",
    "    ind0 = ind[idx0]\n",
    "    ind1 = ind[~idx0]\n",
    "\n",
    "    boots[key][\"all\"] = ind\n",
    "    boots[key][\"id0\"] = ind0\n",
    "    boots[key][\"id1\"] = ind1"
   ]
  },
  {
   "cell_type": "code",
   "execution_count": 45,
   "id": "697cc7df",
   "metadata": {},
   "outputs": [
    {
     "data": {
      "text/plain": [
       "9    female\n",
       "2      male\n",
       "2      male\n",
       "9    female\n",
       "6      male\n",
       "2      male\n",
       "2      male\n",
       "3    female\n",
       "2      male\n",
       "2      male\n",
       "Name: sex, dtype: object"
      ]
     },
     "execution_count": 45,
     "metadata": {},
     "output_type": "execute_result"
    }
   ],
   "source": [
    "boot_data[X][ind]"
   ]
  },
  {
   "cell_type": "code",
   "execution_count": 46,
   "id": "3aab5720",
   "metadata": {},
   "outputs": [
    {
     "data": {
      "text/plain": [
       "{0: {'all': array([3, 6, 2, 3, 0, 3, 5, 7, 8, 7]),\n",
       "  'id0': array([3, 3, 3, 5]),\n",
       "  'id1': array([6, 2, 0, 7, 8, 7])},\n",
       " 1: {'all': array([1, 6, 5, 9, 7, 6, 5, 5, 9, 3]),\n",
       "  'id0': array([1, 5, 9, 5, 5, 9, 3]),\n",
       "  'id1': array([6, 7, 6])},\n",
       " 2: {'all': array([7, 9, 1, 7, 5, 5, 0, 9, 7, 3]),\n",
       "  'id0': array([9, 1, 5, 5, 9, 3]),\n",
       "  'id1': array([7, 7, 0, 7])},\n",
       " 3: {'all': array([5, 5, 3, 8, 0, 0, 0, 8, 0, 0]),\n",
       "  'id0': array([5, 5, 3]),\n",
       "  'id1': array([8, 0, 0, 0, 8, 0, 0])},\n",
       " 4: {'all': array([9, 2, 2, 9, 6, 2, 2, 3, 2, 2]),\n",
       "  'id0': array([9, 9, 3]),\n",
       "  'id1': array([2, 2, 6, 2, 2, 2, 2])}}"
      ]
     },
     "execution_count": 46,
     "metadata": {},
     "output_type": "execute_result"
    }
   ],
   "source": [
    "boots"
   ]
  },
  {
   "cell_type": "code",
   "execution_count": 47,
   "id": "4652640e",
   "metadata": {},
   "outputs": [],
   "source": [
    "Y = \"salary\""
   ]
  },
  {
   "cell_type": "code",
   "execution_count": 48,
   "id": "a622807a",
   "metadata": {},
   "outputs": [],
   "source": [
    "y = boot_data[Y].astype(float)"
   ]
  },
  {
   "cell_type": "code",
   "execution_count": 49,
   "id": "718c6afb",
   "metadata": {},
   "outputs": [],
   "source": [
    "tv = msd_two(y, \"id1\", -y, \"id0\", \"tv\", boots)    "
   ]
  },
  {
   "cell_type": "code",
   "execution_count": 50,
   "id": "7aec6816",
   "metadata": {},
   "outputs": [
    {
     "data": {
      "text/html": [
       "<div>\n",
       "<style scoped>\n",
       "    .dataframe tbody tr th:only-of-type {\n",
       "        vertical-align: middle;\n",
       "    }\n",
       "\n",
       "    .dataframe tbody tr th {\n",
       "        vertical-align: top;\n",
       "    }\n",
       "\n",
       "    .dataframe thead th {\n",
       "        text-align: right;\n",
       "    }\n",
       "</style>\n",
       "<table border=\"1\" class=\"dataframe\">\n",
       "  <thead>\n",
       "    <tr style=\"text-align: right;\">\n",
       "      <th></th>\n",
       "      <th>boot</th>\n",
       "      <th>value</th>\n",
       "      <th>measure</th>\n",
       "    </tr>\n",
       "  </thead>\n",
       "  <tbody>\n",
       "    <tr>\n",
       "      <th>0</th>\n",
       "      <td>0</td>\n",
       "      <td>6083.333333</td>\n",
       "      <td>tv</td>\n",
       "    </tr>\n",
       "    <tr>\n",
       "      <th>1</th>\n",
       "      <td>1</td>\n",
       "      <td>31190.476190</td>\n",
       "      <td>tv</td>\n",
       "    </tr>\n",
       "    <tr>\n",
       "      <th>2</th>\n",
       "      <td>2</td>\n",
       "      <td>30166.666667</td>\n",
       "      <td>tv</td>\n",
       "    </tr>\n",
       "    <tr>\n",
       "      <th>3</th>\n",
       "      <td>3</td>\n",
       "      <td>190.476190</td>\n",
       "      <td>tv</td>\n",
       "    </tr>\n",
       "    <tr>\n",
       "      <th>4</th>\n",
       "      <td>4</td>\n",
       "      <td>68142.857143</td>\n",
       "      <td>tv</td>\n",
       "    </tr>\n",
       "  </tbody>\n",
       "</table>\n",
       "</div>"
      ],
      "text/plain": [
       "   boot         value measure\n",
       "0     0   6083.333333      tv\n",
       "1     1  31190.476190      tv\n",
       "2     2  30166.666667      tv\n",
       "3     3    190.476190      tv\n",
       "4     4  68142.857143      tv"
      ]
     },
     "execution_count": 50,
     "metadata": {},
     "output_type": "execute_result"
    }
   ],
   "source": [
    "tv"
   ]
  },
  {
   "cell_type": "code",
   "execution_count": null,
   "id": "d2f7f895",
   "metadata": {},
   "outputs": [],
   "source": []
  }
 ],
 "metadata": {
  "kernelspec": {
   "display_name": "Python 3 (ipykernel)",
   "language": "python",
   "name": "python3"
  },
  "language_info": {
   "codemirror_mode": {
    "name": "ipython",
    "version": 3
   },
   "file_extension": ".py",
   "mimetype": "text/x-python",
   "name": "python",
   "nbconvert_exporter": "python",
   "pygments_lexer": "ipython3",
   "version": "3.11.4"
  }
 },
 "nbformat": 4,
 "nbformat_minor": 5
}
