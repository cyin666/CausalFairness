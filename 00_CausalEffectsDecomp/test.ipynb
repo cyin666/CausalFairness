{
 "cells": [
  {
   "cell_type": "code",
   "execution_count": 3,
   "id": "98ec227d",
   "metadata": {},
   "outputs": [],
   "source": [
    "import sys\n",
    "import pandas as pd\n",
    "import numpy as np"
   ]
  },
  {
   "cell_type": "code",
   "execution_count": 4,
   "id": "5250cea6",
   "metadata": {},
   "outputs": [],
   "source": [
    "from econml.grf import CausalForest"
   ]
  },
  {
   "cell_type": "code",
   "execution_count": 5,
   "id": "bd334dff",
   "metadata": {},
   "outputs": [],
   "source": [
    "#del sys.modules[\"ci_helpers\"]\n",
    "from ci_helpers import msd_one, msd_two, msd_three, inh_str"
   ]
  },
  {
   "cell_type": "code",
   "execution_count": 6,
   "id": "1cbebd3d",
   "metadata": {},
   "outputs": [
    {
     "ename": "SyntaxError",
     "evalue": "invalid syntax (causal_forest.py, line 58)",
     "output_type": "error",
     "traceback": [
      "Traceback \u001b[1;36m(most recent call last)\u001b[0m:\n",
      "\u001b[0m  File \u001b[0;32mE:\\Anaconda\\envs\\causalfairness\\Lib\\site-packages\\IPython\\core\\interactiveshell.py:3505\u001b[0m in \u001b[0;35mrun_code\u001b[0m\n    exec(code_obj, self.user_global_ns, self.user_ns)\u001b[0m\n",
      "\u001b[1;36m  Cell \u001b[1;32mIn[6], line 2\u001b[1;36m\n\u001b[1;33m    from causal_forest import ci_crf\u001b[1;36m\n",
      "\u001b[1;36m  File \u001b[1;32mE:\\PhD\\01_causalfairness\\00_codes\\00_CausalEffectsDecomp\\causal_forest.py:58\u001b[1;36m\u001b[0m\n\u001b[1;33m    crf_te =\u001b[0m\n\u001b[1;37m             ^\u001b[0m\n\u001b[1;31mSyntaxError\u001b[0m\u001b[1;31m:\u001b[0m invalid syntax\n"
     ]
    }
   ],
   "source": [
    "#del sys.modules[\"causal_forest\"]\n",
    "from causal_forest import ci_crf"
   ]
  },
  {
   "cell_type": "code",
   "execution_count": 7,
   "id": "3f527c02",
   "metadata": {},
   "outputs": [],
   "source": [
    "#del sys.modules[\"decompositions\"]\n",
    "import decompositions"
   ]
  },
  {
   "cell_type": "code",
   "execution_count": 8,
   "id": "dbd272ae",
   "metadata": {},
   "outputs": [],
   "source": [
    "data_gov = pd.read_csv('E:/PhD/01_causalfairness/00_codes/gov_census.csv',index_col=0)"
   ]
  },
  {
   "cell_type": "markdown",
   "id": "746d654c",
   "metadata": {},
   "source": [
    "- ci_helper"
   ]
  },
  {
   "cell_type": "code",
   "execution_count": 9,
   "id": "e669bad0",
   "metadata": {},
   "outputs": [],
   "source": [
    "y = np.arange(0,10)"
   ]
  },
  {
   "cell_type": "code",
   "execution_count": 10,
   "id": "6a80dda2",
   "metadata": {},
   "outputs": [],
   "source": [
    "boots = {1:{'all':np.arange(0,10),'id0':[0,1,2],'id1':[3,4,5,6,7,8,9]},\n",
    "         2:{'all':np.array([0,1,1,2,3,5,6,7,4,9]),'id0':[0,1,1,2],'id1':[3,5,6,7,4,9]}}"
   ]
  },
  {
   "cell_type": "code",
   "execution_count": 11,
   "id": "1e2761d1",
   "metadata": {},
   "outputs": [
    {
     "data": {
      "text/html": [
       "<div>\n",
       "<style scoped>\n",
       "    .dataframe tbody tr th:only-of-type {\n",
       "        vertical-align: middle;\n",
       "    }\n",
       "\n",
       "    .dataframe tbody tr th {\n",
       "        vertical-align: top;\n",
       "    }\n",
       "\n",
       "    .dataframe thead th {\n",
       "        text-align: right;\n",
       "    }\n",
       "</style>\n",
       "<table border=\"1\" class=\"dataframe\">\n",
       "  <thead>\n",
       "    <tr style=\"text-align: right;\">\n",
       "      <th></th>\n",
       "      <th>boot</th>\n",
       "      <th>value</th>\n",
       "      <th>measure</th>\n",
       "    </tr>\n",
       "  </thead>\n",
       "  <tbody>\n",
       "    <tr>\n",
       "      <th>0</th>\n",
       "      <td>0</td>\n",
       "      <td>1.0</td>\n",
       "      <td>te</td>\n",
       "    </tr>\n",
       "    <tr>\n",
       "      <th>1</th>\n",
       "      <td>1</td>\n",
       "      <td>1.0</td>\n",
       "      <td>te</td>\n",
       "    </tr>\n",
       "  </tbody>\n",
       "</table>\n",
       "</div>"
      ],
      "text/plain": [
       "   boot  value measure\n",
       "0     0    1.0      te\n",
       "1     1    1.0      te"
      ]
     },
     "execution_count": 11,
     "metadata": {},
     "output_type": "execute_result"
    }
   ],
   "source": [
    "msd_one(y,\"id0\",\"te\",boots)"
   ]
  },
  {
   "cell_type": "code",
   "execution_count": 12,
   "id": "bc462b03",
   "metadata": {},
   "outputs": [
    {
     "data": {
      "text/html": [
       "<div>\n",
       "<style scoped>\n",
       "    .dataframe tbody tr th:only-of-type {\n",
       "        vertical-align: middle;\n",
       "    }\n",
       "\n",
       "    .dataframe tbody tr th {\n",
       "        vertical-align: top;\n",
       "    }\n",
       "\n",
       "    .dataframe thead th {\n",
       "        text-align: right;\n",
       "    }\n",
       "</style>\n",
       "<table border=\"1\" class=\"dataframe\">\n",
       "  <thead>\n",
       "    <tr style=\"text-align: right;\">\n",
       "      <th></th>\n",
       "      <th>boot</th>\n",
       "      <th>value</th>\n",
       "      <th>measure</th>\n",
       "    </tr>\n",
       "  </thead>\n",
       "  <tbody>\n",
       "    <tr>\n",
       "      <th>0</th>\n",
       "      <td>0</td>\n",
       "      <td>-5.000000</td>\n",
       "      <td>te</td>\n",
       "    </tr>\n",
       "    <tr>\n",
       "      <th>1</th>\n",
       "      <td>1</td>\n",
       "      <td>-4.666667</td>\n",
       "      <td>te</td>\n",
       "    </tr>\n",
       "  </tbody>\n",
       "</table>\n",
       "</div>"
      ],
      "text/plain": [
       "   boot     value measure\n",
       "0     0 -5.000000      te\n",
       "1     1 -4.666667      te"
      ]
     },
     "execution_count": 12,
     "metadata": {},
     "output_type": "execute_result"
    }
   ],
   "source": [
    "msd_two(y,\"id0\",-y,\"id1\",\"te\",boots)"
   ]
  },
  {
   "cell_type": "code",
   "execution_count": 13,
   "id": "88ddc57e",
   "metadata": {},
   "outputs": [
    {
     "data": {
      "text/plain": [
       "-5.0"
      ]
     },
     "execution_count": 13,
     "metadata": {},
     "output_type": "execute_result"
    }
   ],
   "source": [
    "np.mean([0,1,2])-np.mean([3,4,5,6,7,8,9])"
   ]
  },
  {
   "cell_type": "code",
   "execution_count": 14,
   "id": "763297ad",
   "metadata": {},
   "outputs": [
    {
     "data": {
      "text/plain": [
       "-4.666666666666667"
      ]
     },
     "execution_count": 14,
     "metadata": {},
     "output_type": "execute_result"
    }
   ],
   "source": [
    "np.mean([0,1,1,2])-np.mean([3,5,6,7,4,9])"
   ]
  },
  {
   "cell_type": "code",
   "execution_count": 15,
   "id": "d7544e46",
   "metadata": {},
   "outputs": [
    {
     "data": {
      "text/html": [
       "<div>\n",
       "<style scoped>\n",
       "    .dataframe tbody tr th:only-of-type {\n",
       "        vertical-align: middle;\n",
       "    }\n",
       "\n",
       "    .dataframe tbody tr th {\n",
       "        vertical-align: top;\n",
       "    }\n",
       "\n",
       "    .dataframe thead th {\n",
       "        text-align: right;\n",
       "    }\n",
       "</style>\n",
       "<table border=\"1\" class=\"dataframe\">\n",
       "  <thead>\n",
       "    <tr style=\"text-align: right;\">\n",
       "      <th></th>\n",
       "      <th>boot</th>\n",
       "      <th>value</th>\n",
       "      <th>measure</th>\n",
       "    </tr>\n",
       "  </thead>\n",
       "  <tbody>\n",
       "    <tr>\n",
       "      <th>0</th>\n",
       "      <td>0</td>\n",
       "      <td>1.0</td>\n",
       "      <td>te</td>\n",
       "    </tr>\n",
       "    <tr>\n",
       "      <th>1</th>\n",
       "      <td>1</td>\n",
       "      <td>1.0</td>\n",
       "      <td>te</td>\n",
       "    </tr>\n",
       "  </tbody>\n",
       "</table>\n",
       "</div>"
      ],
      "text/plain": [
       "   boot  value measure\n",
       "0     0    1.0      te\n",
       "1     1    1.0      te"
      ]
     },
     "execution_count": 15,
     "metadata": {},
     "output_type": "execute_result"
    }
   ],
   "source": [
    "msd_three(y,\"id0\",-y,\"id1\",y,\"id1\",\"te\",boots)"
   ]
  },
  {
   "cell_type": "code",
   "execution_count": 16,
   "id": "7f6ba0d6",
   "metadata": {},
   "outputs": [],
   "source": [
    "df_cihelpher = msd_three(y,\"id0\",-y,\"id1\",y,\"id1\",\"te\",boots)"
   ]
  },
  {
   "cell_type": "code",
   "execution_count": 17,
   "id": "1a8e5f06",
   "metadata": {},
   "outputs": [
    {
     "data": {
      "text/html": [
       "<div>\n",
       "<style scoped>\n",
       "    .dataframe tbody tr th:only-of-type {\n",
       "        vertical-align: middle;\n",
       "    }\n",
       "\n",
       "    .dataframe tbody tr th {\n",
       "        vertical-align: top;\n",
       "    }\n",
       "\n",
       "    .dataframe thead th {\n",
       "        text-align: right;\n",
       "    }\n",
       "</style>\n",
       "<table border=\"1\" class=\"dataframe\">\n",
       "  <thead>\n",
       "    <tr style=\"text-align: right;\">\n",
       "      <th></th>\n",
       "      <th>boot</th>\n",
       "      <th>value</th>\n",
       "      <th>measure</th>\n",
       "    </tr>\n",
       "  </thead>\n",
       "  <tbody>\n",
       "    <tr>\n",
       "      <th>0</th>\n",
       "      <td>0</td>\n",
       "      <td>1.0</td>\n",
       "      <td>te</td>\n",
       "    </tr>\n",
       "    <tr>\n",
       "      <th>1</th>\n",
       "      <td>1</td>\n",
       "      <td>1.0</td>\n",
       "      <td>te</td>\n",
       "    </tr>\n",
       "  </tbody>\n",
       "</table>\n",
       "</div>"
      ],
      "text/plain": [
       "   boot  value measure\n",
       "0     0    1.0      te\n",
       "1     1    1.0      te"
      ]
     },
     "execution_count": 17,
     "metadata": {},
     "output_type": "execute_result"
    }
   ],
   "source": [
    "df_cihelpher"
   ]
  },
  {
   "cell_type": "code",
   "execution_count": 18,
   "id": "b097b872",
   "metadata": {},
   "outputs": [
    {
     "data": {
      "text/html": [
       "<div>\n",
       "<style scoped>\n",
       "    .dataframe tbody tr th:only-of-type {\n",
       "        vertical-align: middle;\n",
       "    }\n",
       "\n",
       "    .dataframe tbody tr th {\n",
       "        vertical-align: top;\n",
       "    }\n",
       "\n",
       "    .dataframe thead th {\n",
       "        text-align: right;\n",
       "    }\n",
       "</style>\n",
       "<table border=\"1\" class=\"dataframe\">\n",
       "  <thead>\n",
       "    <tr style=\"text-align: right;\">\n",
       "      <th></th>\n",
       "      <th>boot</th>\n",
       "      <th>value</th>\n",
       "      <th>measure</th>\n",
       "    </tr>\n",
       "  </thead>\n",
       "  <tbody>\n",
       "    <tr>\n",
       "      <th>0</th>\n",
       "      <td>0</td>\n",
       "      <td>0</td>\n",
       "      <td>ctfde</td>\n",
       "    </tr>\n",
       "    <tr>\n",
       "      <th>1</th>\n",
       "      <td>1</td>\n",
       "      <td>0</td>\n",
       "      <td>ctfde</td>\n",
       "    </tr>\n",
       "  </tbody>\n",
       "</table>\n",
       "</div>"
      ],
      "text/plain": [
       "   boot  value measure\n",
       "0     0      0   ctfde\n",
       "1     1      0   ctfde"
      ]
     },
     "execution_count": 18,
     "metadata": {},
     "output_type": "execute_result"
    }
   ],
   "source": [
    "inh_str(df_cihelpher,\"ctfde\",set0=True)"
   ]
  },
  {
   "cell_type": "code",
   "execution_count": 19,
   "id": "829c93e8",
   "metadata": {},
   "outputs": [
    {
     "data": {
      "text/html": [
       "<div>\n",
       "<style scoped>\n",
       "    .dataframe tbody tr th:only-of-type {\n",
       "        vertical-align: middle;\n",
       "    }\n",
       "\n",
       "    .dataframe tbody tr th {\n",
       "        vertical-align: top;\n",
       "    }\n",
       "\n",
       "    .dataframe thead th {\n",
       "        text-align: right;\n",
       "    }\n",
       "</style>\n",
       "<table border=\"1\" class=\"dataframe\">\n",
       "  <thead>\n",
       "    <tr style=\"text-align: right;\">\n",
       "      <th></th>\n",
       "      <th>boot</th>\n",
       "      <th>value</th>\n",
       "      <th>measure</th>\n",
       "    </tr>\n",
       "  </thead>\n",
       "  <tbody>\n",
       "    <tr>\n",
       "      <th>0</th>\n",
       "      <td>0</td>\n",
       "      <td>NaN</td>\n",
       "      <td>ctfde</td>\n",
       "    </tr>\n",
       "    <tr>\n",
       "      <th>1</th>\n",
       "      <td>1</td>\n",
       "      <td>NaN</td>\n",
       "      <td>ctfde</td>\n",
       "    </tr>\n",
       "  </tbody>\n",
       "</table>\n",
       "</div>"
      ],
      "text/plain": [
       "   boot  value measure\n",
       "0     0    NaN   ctfde\n",
       "1     1    NaN   ctfde"
      ]
     },
     "execution_count": 19,
     "metadata": {},
     "output_type": "execute_result"
    }
   ],
   "source": [
    "inh_str(df_cihelpher,\"ctfde\",set0=True,setna=True)"
   ]
  },
  {
   "cell_type": "markdown",
   "id": "e1f91c92",
   "metadata": {},
   "source": [
    "- causal forest"
   ]
  },
  {
   "cell_type": "code",
   "execution_count": 20,
   "id": "a827c6bc",
   "metadata": {},
   "outputs": [],
   "source": [
    "test = 1 if False else 2"
   ]
  },
  {
   "cell_type": "code",
   "execution_count": 21,
   "id": "21d748e3",
   "metadata": {},
   "outputs": [
    {
     "data": {
      "text/plain": [
       "2"
      ]
     },
     "execution_count": 21,
     "metadata": {},
     "output_type": "execute_result"
    }
   ],
   "source": [
    "test"
   ]
  },
  {
   "cell_type": "code",
   "execution_count": 22,
   "id": "f756d3d5",
   "metadata": {},
   "outputs": [
    {
     "data": {
      "text/plain": [
       "array([1, 1])"
      ]
     },
     "execution_count": 22,
     "metadata": {},
     "output_type": "execute_result"
    }
   ],
   "source": [
    "np.random.randint(0,df_cihelpher.shape[0],df_cihelpher.shape[0])"
   ]
  },
  {
   "cell_type": "code",
   "execution_count": 23,
   "id": "d7b3925a",
   "metadata": {},
   "outputs": [
    {
     "data": {
      "text/plain": [
       "2"
      ]
     },
     "execution_count": 23,
     "metadata": {},
     "output_type": "execute_result"
    }
   ],
   "source": [
    "df_cihelpher.shape[0]"
   ]
  },
  {
   "cell_type": "code",
   "execution_count": 24,
   "id": "da55f166",
   "metadata": {},
   "outputs": [
    {
     "data": {
      "text/plain": [
       "array([0, 1])"
      ]
     },
     "execution_count": 24,
     "metadata": {},
     "output_type": "execute_result"
    }
   ],
   "source": [
    "np.arange(0,df_cihelpher.shape[0])"
   ]
  },
  {
   "cell_type": "code",
   "execution_count": 25,
   "id": "70c18448",
   "metadata": {},
   "outputs": [],
   "source": [
    "data_gov_head = data_gov.head(10)"
   ]
  },
  {
   "cell_type": "code",
   "execution_count": 26,
   "id": "a821f65f",
   "metadata": {},
   "outputs": [
    {
     "name": "stdout",
     "output_type": "stream",
     "text": [
      "10\n"
     ]
    }
   ],
   "source": [
    "data = data_gov_head\n",
    "nrow_df = data.shape[0]\n",
    "print(data.shape[0])\n",
    "rep = 1\n",
    "nboot = 5\n",
    "x0=\"female\"\n",
    "X = \"sex\"\n",
    "\n",
    "boot_samp = np.random.randint(0,nrow_df,nrow_df) if rep>1 else np.arange(0,nrow_df)  \n",
    "boot_data = data.iloc[boot_samp,:].reset_index(drop=True)\n",
    "\n",
    "nrow_boot_df = boot_data.shape[0]\n",
    "boots = dict.fromkeys(np.arange(nboot))\n",
    "for key in boots:\n",
    "    boots[key] = dict.fromkeys([\"all\",\"id0\",\"id1\"])\n",
    "    ind = np.random.randint(0,nrow_boot_df,nrow_boot_df)\n",
    "\n",
    "    idx0 = boot_data[X][ind] == x0\n",
    "    ind0 = ind[idx0]\n",
    "    ind1 = ind[~idx0]\n",
    "\n",
    "    boots[key][\"all\"] = ind\n",
    "    boots[key][\"id0\"] = ind0\n",
    "    boots[key][\"id1\"] = ind1"
   ]
  },
  {
   "cell_type": "code",
   "execution_count": 27,
   "id": "f363d758",
   "metadata": {},
   "outputs": [
    {
     "data": {
      "text/plain": [
       "6      male\n",
       "7      male\n",
       "5    female\n",
       "1    female\n",
       "2      male\n",
       "8      male\n",
       "5    female\n",
       "7      male\n",
       "9    female\n",
       "7      male\n",
       "Name: sex, dtype: object"
      ]
     },
     "execution_count": 27,
     "metadata": {},
     "output_type": "execute_result"
    }
   ],
   "source": [
    "boot_data[X][ind]"
   ]
  },
  {
   "cell_type": "code",
   "execution_count": 28,
   "id": "05680007",
   "metadata": {},
   "outputs": [
    {
     "data": {
      "text/plain": [
       "{0: {'all': array([9, 4, 6, 9, 9, 5, 4, 4, 3, 9]),\n",
       "  'id0': array([9, 4, 9, 9, 5, 4, 4, 3, 9]),\n",
       "  'id1': array([6])},\n",
       " 1: {'all': array([3, 5, 7, 4, 6, 1, 7, 6, 7, 1]),\n",
       "  'id0': array([3, 5, 4, 1, 1]),\n",
       "  'id1': array([7, 6, 7, 6, 7])},\n",
       " 2: {'all': array([1, 6, 1, 1, 2, 5, 8, 1, 0, 3]),\n",
       "  'id0': array([1, 1, 1, 5, 1, 3]),\n",
       "  'id1': array([6, 2, 8, 0])},\n",
       " 3: {'all': array([8, 1, 0, 6, 9, 5, 3, 0, 6, 3]),\n",
       "  'id0': array([1, 9, 5, 3, 3]),\n",
       "  'id1': array([8, 0, 6, 0, 6])},\n",
       " 4: {'all': array([6, 7, 5, 1, 2, 8, 5, 7, 9, 7]),\n",
       "  'id0': array([5, 1, 5, 9]),\n",
       "  'id1': array([6, 7, 2, 8, 7, 7])}}"
      ]
     },
     "execution_count": 28,
     "metadata": {},
     "output_type": "execute_result"
    }
   ],
   "source": [
    "boots"
   ]
  },
  {
   "cell_type": "code",
   "execution_count": 29,
   "id": "5ee01931",
   "metadata": {},
   "outputs": [],
   "source": [
    "Y = \"salary\""
   ]
  },
  {
   "cell_type": "code",
   "execution_count": 30,
   "id": "9cf4ca1d",
   "metadata": {},
   "outputs": [],
   "source": [
    "y = boot_data[Y].astype(float)"
   ]
  },
  {
   "cell_type": "code",
   "execution_count": 31,
   "id": "888db93e",
   "metadata": {},
   "outputs": [],
   "source": [
    "tv = msd_two(y, \"id1\", -y, \"id0\", \"tv\", boots)    "
   ]
  },
  {
   "cell_type": "code",
   "execution_count": 32,
   "id": "40e7cbdf",
   "metadata": {},
   "outputs": [
    {
     "data": {
      "text/html": [
       "<div>\n",
       "<style scoped>\n",
       "    .dataframe tbody tr th:only-of-type {\n",
       "        vertical-align: middle;\n",
       "    }\n",
       "\n",
       "    .dataframe tbody tr th {\n",
       "        vertical-align: top;\n",
       "    }\n",
       "\n",
       "    .dataframe thead th {\n",
       "        text-align: right;\n",
       "    }\n",
       "</style>\n",
       "<table border=\"1\" class=\"dataframe\">\n",
       "  <thead>\n",
       "    <tr style=\"text-align: right;\">\n",
       "      <th></th>\n",
       "      <th>boot</th>\n",
       "      <th>value</th>\n",
       "      <th>measure</th>\n",
       "    </tr>\n",
       "  </thead>\n",
       "  <tbody>\n",
       "    <tr>\n",
       "      <th>0</th>\n",
       "      <td>0</td>\n",
       "      <td>30155.555556</td>\n",
       "      <td>tv</td>\n",
       "    </tr>\n",
       "    <tr>\n",
       "      <th>1</th>\n",
       "      <td>1</td>\n",
       "      <td>16960.000000</td>\n",
       "      <td>tv</td>\n",
       "    </tr>\n",
       "    <tr>\n",
       "      <th>2</th>\n",
       "      <td>2</td>\n",
       "      <td>12833.333333</td>\n",
       "      <td>tv</td>\n",
       "    </tr>\n",
       "    <tr>\n",
       "      <th>3</th>\n",
       "      <td>3</td>\n",
       "      <td>5800.000000</td>\n",
       "      <td>tv</td>\n",
       "    </tr>\n",
       "    <tr>\n",
       "      <th>4</th>\n",
       "      <td>4</td>\n",
       "      <td>37250.000000</td>\n",
       "      <td>tv</td>\n",
       "    </tr>\n",
       "  </tbody>\n",
       "</table>\n",
       "</div>"
      ],
      "text/plain": [
       "   boot         value measure\n",
       "0     0  30155.555556      tv\n",
       "1     1  16960.000000      tv\n",
       "2     2  12833.333333      tv\n",
       "3     3   5800.000000      tv\n",
       "4     4  37250.000000      tv"
      ]
     },
     "execution_count": 32,
     "metadata": {},
     "output_type": "execute_result"
    }
   ],
   "source": [
    "tv"
   ]
  },
  {
   "cell_type": "code",
   "execution_count": 33,
   "id": "49532057",
   "metadata": {},
   "outputs": [
    {
     "data": {
      "text/plain": [
       "[1, 1, 1, 1, 1, 1, 1, 1, 1, 1]"
      ]
     },
     "execution_count": 33,
     "metadata": {},
     "output_type": "execute_result"
    }
   ],
   "source": [
    "[1]*10"
   ]
  },
  {
   "cell_type": "code",
   "execution_count": 37,
   "id": "8103de57",
   "metadata": {},
   "outputs": [
    {
     "data": {
      "text/plain": [
       "array([30155.55555556, 30155.55555556, 30155.55555556, 30155.55555556,\n",
       "       30155.55555556, 30155.55555556, 30155.55555556, 30155.55555556,\n",
       "       30155.55555556, 30155.55555556])"
      ]
     },
     "execution_count": 37,
     "metadata": {},
     "output_type": "execute_result"
    }
   ],
   "source": [
    "np.array([tv['value'][0]]*data.shape[0])"
   ]
  },
  {
   "cell_type": "code",
   "execution_count": 39,
   "id": "1f74665e",
   "metadata": {},
   "outputs": [
    {
     "data": {
      "text/plain": [
       "array([43000., 45000., 99000., 63000., 45200., 28000., 58000., 65000.,\n",
       "       32000.,  6000.])"
      ]
     },
     "execution_count": 39,
     "metadata": {},
     "output_type": "execute_result"
    }
   ],
   "source": [
    "boot_data[Y].astype(float).values"
   ]
  },
  {
   "cell_type": "code",
   "execution_count": null,
   "id": "dd2f866b",
   "metadata": {},
   "outputs": [],
   "source": []
  },
  {
   "cell_type": "code",
   "execution_count": 40,
   "id": "ffab9ac7",
   "metadata": {},
   "outputs": [
    {
     "data": {
      "text/html": [
       "<div>\n",
       "<style scoped>\n",
       "    .dataframe tbody tr th:only-of-type {\n",
       "        vertical-align: middle;\n",
       "    }\n",
       "\n",
       "    .dataframe tbody tr th {\n",
       "        vertical-align: top;\n",
       "    }\n",
       "\n",
       "    .dataframe thead th {\n",
       "        text-align: right;\n",
       "    }\n",
       "</style>\n",
       "<table border=\"1\" class=\"dataframe\">\n",
       "  <thead>\n",
       "    <tr style=\"text-align: right;\">\n",
       "      <th></th>\n",
       "      <th>sex</th>\n",
       "      <th>age</th>\n",
       "      <th>race</th>\n",
       "      <th>hispanic_origin</th>\n",
       "      <th>citizenship</th>\n",
       "      <th>nativity</th>\n",
       "      <th>marital</th>\n",
       "      <th>family_size</th>\n",
       "      <th>children</th>\n",
       "      <th>education_level</th>\n",
       "      <th>english_level</th>\n",
       "      <th>salary</th>\n",
       "      <th>hours_worked</th>\n",
       "      <th>weeks_worked</th>\n",
       "      <th>occupation</th>\n",
       "      <th>industry</th>\n",
       "      <th>economic_region</th>\n",
       "    </tr>\n",
       "  </thead>\n",
       "  <tbody>\n",
       "    <tr>\n",
       "      <th>1</th>\n",
       "      <td>male</td>\n",
       "      <td>64</td>\n",
       "      <td>black</td>\n",
       "      <td>no</td>\n",
       "      <td>1</td>\n",
       "      <td>native</td>\n",
       "      <td>married</td>\n",
       "      <td>2</td>\n",
       "      <td>0</td>\n",
       "      <td>20</td>\n",
       "      <td>0</td>\n",
       "      <td>43000.0</td>\n",
       "      <td>56</td>\n",
       "      <td>49</td>\n",
       "      <td>13-1081</td>\n",
       "      <td>928P</td>\n",
       "      <td>Southeast</td>\n",
       "    </tr>\n",
       "    <tr>\n",
       "      <th>2</th>\n",
       "      <td>female</td>\n",
       "      <td>54</td>\n",
       "      <td>white</td>\n",
       "      <td>no</td>\n",
       "      <td>1</td>\n",
       "      <td>native</td>\n",
       "      <td>married</td>\n",
       "      <td>3</td>\n",
       "      <td>1</td>\n",
       "      <td>20</td>\n",
       "      <td>0</td>\n",
       "      <td>45000.0</td>\n",
       "      <td>42</td>\n",
       "      <td>49</td>\n",
       "      <td>29-2061</td>\n",
       "      <td>6231</td>\n",
       "      <td>Southeast</td>\n",
       "    </tr>\n",
       "    <tr>\n",
       "      <th>3</th>\n",
       "      <td>male</td>\n",
       "      <td>38</td>\n",
       "      <td>black</td>\n",
       "      <td>no</td>\n",
       "      <td>1</td>\n",
       "      <td>native</td>\n",
       "      <td>married</td>\n",
       "      <td>3</td>\n",
       "      <td>1</td>\n",
       "      <td>24</td>\n",
       "      <td>0</td>\n",
       "      <td>99000.0</td>\n",
       "      <td>50</td>\n",
       "      <td>49</td>\n",
       "      <td>25-1000</td>\n",
       "      <td>611M1</td>\n",
       "      <td>Southeast</td>\n",
       "    </tr>\n",
       "    <tr>\n",
       "      <th>4</th>\n",
       "      <td>female</td>\n",
       "      <td>41</td>\n",
       "      <td>asian</td>\n",
       "      <td>no</td>\n",
       "      <td>1</td>\n",
       "      <td>native</td>\n",
       "      <td>married</td>\n",
       "      <td>3</td>\n",
       "      <td>1</td>\n",
       "      <td>24</td>\n",
       "      <td>0</td>\n",
       "      <td>63000.0</td>\n",
       "      <td>50</td>\n",
       "      <td>49</td>\n",
       "      <td>25-1000</td>\n",
       "      <td>611M1</td>\n",
       "      <td>Southeast</td>\n",
       "    </tr>\n",
       "    <tr>\n",
       "      <th>5</th>\n",
       "      <td>female</td>\n",
       "      <td>40</td>\n",
       "      <td>white</td>\n",
       "      <td>no</td>\n",
       "      <td>1</td>\n",
       "      <td>native</td>\n",
       "      <td>married</td>\n",
       "      <td>4</td>\n",
       "      <td>2</td>\n",
       "      <td>21</td>\n",
       "      <td>0</td>\n",
       "      <td>45200.0</td>\n",
       "      <td>40</td>\n",
       "      <td>49</td>\n",
       "      <td>27-1010</td>\n",
       "      <td>611M1</td>\n",
       "      <td>Southeast</td>\n",
       "    </tr>\n",
       "    <tr>\n",
       "      <th>6</th>\n",
       "      <td>female</td>\n",
       "      <td>46</td>\n",
       "      <td>white</td>\n",
       "      <td>no</td>\n",
       "      <td>1</td>\n",
       "      <td>native</td>\n",
       "      <td>divorced</td>\n",
       "      <td>3</td>\n",
       "      <td>1</td>\n",
       "      <td>18</td>\n",
       "      <td>0</td>\n",
       "      <td>28000.0</td>\n",
       "      <td>40</td>\n",
       "      <td>49</td>\n",
       "      <td>43-6014</td>\n",
       "      <td>6111</td>\n",
       "      <td>Southeast</td>\n",
       "    </tr>\n",
       "    <tr>\n",
       "      <th>7</th>\n",
       "      <td>male</td>\n",
       "      <td>41</td>\n",
       "      <td>white</td>\n",
       "      <td>no</td>\n",
       "      <td>1</td>\n",
       "      <td>native</td>\n",
       "      <td>married</td>\n",
       "      <td>4</td>\n",
       "      <td>2</td>\n",
       "      <td>21</td>\n",
       "      <td>0</td>\n",
       "      <td>58000.0</td>\n",
       "      <td>45</td>\n",
       "      <td>49</td>\n",
       "      <td>13-1070</td>\n",
       "      <td>611M1</td>\n",
       "      <td>Southeast</td>\n",
       "    </tr>\n",
       "    <tr>\n",
       "      <th>8</th>\n",
       "      <td>male</td>\n",
       "      <td>54</td>\n",
       "      <td>white</td>\n",
       "      <td>no</td>\n",
       "      <td>1</td>\n",
       "      <td>native</td>\n",
       "      <td>married</td>\n",
       "      <td>2</td>\n",
       "      <td>0</td>\n",
       "      <td>19</td>\n",
       "      <td>0</td>\n",
       "      <td>65000.0</td>\n",
       "      <td>55</td>\n",
       "      <td>49</td>\n",
       "      <td>33-3050</td>\n",
       "      <td>92MP</td>\n",
       "      <td>Southeast</td>\n",
       "    </tr>\n",
       "    <tr>\n",
       "      <th>9</th>\n",
       "      <td>male</td>\n",
       "      <td>29</td>\n",
       "      <td>white</td>\n",
       "      <td>no</td>\n",
       "      <td>1</td>\n",
       "      <td>native</td>\n",
       "      <td>married</td>\n",
       "      <td>2</td>\n",
       "      <td>0</td>\n",
       "      <td>18</td>\n",
       "      <td>0</td>\n",
       "      <td>32000.0</td>\n",
       "      <td>40</td>\n",
       "      <td>49</td>\n",
       "      <td>33-3050</td>\n",
       "      <td>92MP</td>\n",
       "      <td>Southeast</td>\n",
       "    </tr>\n",
       "    <tr>\n",
       "      <th>10</th>\n",
       "      <td>female</td>\n",
       "      <td>43</td>\n",
       "      <td>white</td>\n",
       "      <td>no</td>\n",
       "      <td>1</td>\n",
       "      <td>native</td>\n",
       "      <td>married</td>\n",
       "      <td>2</td>\n",
       "      <td>0</td>\n",
       "      <td>18</td>\n",
       "      <td>0</td>\n",
       "      <td>6000.0</td>\n",
       "      <td>16</td>\n",
       "      <td>26</td>\n",
       "      <td>43-5031</td>\n",
       "      <td>92MP</td>\n",
       "      <td>Southeast</td>\n",
       "    </tr>\n",
       "  </tbody>\n",
       "</table>\n",
       "</div>"
      ],
      "text/plain": [
       "       sex  age   race hispanic_origin  citizenship nativity   marital  \\\n",
       "1     male   64  black              no            1   native   married   \n",
       "2   female   54  white              no            1   native   married   \n",
       "3     male   38  black              no            1   native   married   \n",
       "4   female   41  asian              no            1   native   married   \n",
       "5   female   40  white              no            1   native   married   \n",
       "6   female   46  white              no            1   native  divorced   \n",
       "7     male   41  white              no            1   native   married   \n",
       "8     male   54  white              no            1   native   married   \n",
       "9     male   29  white              no            1   native   married   \n",
       "10  female   43  white              no            1   native   married   \n",
       "\n",
       "    family_size  children  education_level  english_level   salary  \\\n",
       "1             2         0               20              0  43000.0   \n",
       "2             3         1               20              0  45000.0   \n",
       "3             3         1               24              0  99000.0   \n",
       "4             3         1               24              0  63000.0   \n",
       "5             4         2               21              0  45200.0   \n",
       "6             3         1               18              0  28000.0   \n",
       "7             4         2               21              0  58000.0   \n",
       "8             2         0               19              0  65000.0   \n",
       "9             2         0               18              0  32000.0   \n",
       "10            2         0               18              0   6000.0   \n",
       "\n",
       "    hours_worked  weeks_worked occupation industry economic_region  \n",
       "1             56            49    13-1081     928P       Southeast  \n",
       "2             42            49    29-2061     6231       Southeast  \n",
       "3             50            49    25-1000    611M1       Southeast  \n",
       "4             50            49    25-1000    611M1       Southeast  \n",
       "5             40            49    27-1010    611M1       Southeast  \n",
       "6             40            49    43-6014     6111       Southeast  \n",
       "7             45            49    13-1070    611M1       Southeast  \n",
       "8             55            49    33-3050     92MP       Southeast  \n",
       "9             40            49    33-3050     92MP       Southeast  \n",
       "10            16            26    43-5031     92MP       Southeast  "
      ]
     },
     "execution_count": 40,
     "metadata": {},
     "output_type": "execute_result"
    }
   ],
   "source": [
    "data_gov_head"
   ]
  },
  {
   "cell_type": "code",
   "execution_count": 45,
   "id": "d8e1e32d",
   "metadata": {},
   "outputs": [],
   "source": [
    "from sklearn import preprocessing"
   ]
  },
  {
   "cell_type": "code",
   "execution_count": 47,
   "id": "bde531a3",
   "metadata": {},
   "outputs": [
    {
     "data": {
      "text/plain": [
       "'female'"
      ]
     },
     "execution_count": 47,
     "metadata": {},
     "output_type": "execute_result"
    }
   ],
   "source": [
    "x0"
   ]
  },
  {
   "cell_type": "code",
   "execution_count": 48,
   "id": "5911d418",
   "metadata": {},
   "outputs": [
    {
     "data": {
      "text/plain": [
       "array([1, 0, 1, 0, 0, 0, 1, 1, 1, 0])"
      ]
     },
     "execution_count": 48,
     "metadata": {},
     "output_type": "execute_result"
    }
   ],
   "source": [
    "np.where(boot_data[\"sex\"]==x0,0,1)"
   ]
  },
  {
   "cell_type": "code",
   "execution_count": 44,
   "id": "8975793a",
   "metadata": {},
   "outputs": [
    {
     "data": {
      "text/plain": [
       "1       male\n",
       "2     female\n",
       "3       male\n",
       "4     female\n",
       "5     female\n",
       "6     female\n",
       "7       male\n",
       "8       male\n",
       "9       male\n",
       "10    female\n",
       "Name: sex, dtype: object"
      ]
     },
     "execution_count": 44,
     "metadata": {},
     "output_type": "execute_result"
    }
   ],
   "source": [
    "boot_data[\"sex\"]"
   ]
  },
  {
   "cell_type": "code",
   "execution_count": 50,
   "id": "7a9785e1",
   "metadata": {},
   "outputs": [],
   "source": [
    "boot_data = data_gov_head\n",
    "crf_tmp = CausalForest()\n",
    "crf_tmp.fit(X = boot_data[['citizenship']].values, T = np.where(boot_data['sex'].values==x0,0,1), y = y.values)\n",
    "crf_te = crf_tmp.oob_predict( boot_data[['citizenship']].values)"
   ]
  },
  {
   "cell_type": "code",
   "execution_count": 55,
   "id": "a3dca680",
   "metadata": {},
   "outputs": [
    {
     "data": {
      "text/plain": [
       "array([25161.23876124, 31228.69458128, 12567.4796748 , 28800.        ,\n",
       "       24065.62847608, 25806.25814863, 23315.70391872, 26654.65201465,\n",
       "       32585.39371685, 19791.66666667])"
      ]
     },
     "execution_count": 55,
     "metadata": {},
     "output_type": "execute_result"
    }
   ],
   "source": [
    "crf_te.ravel()"
   ]
  },
  {
   "cell_type": "code",
   "execution_count": 56,
   "id": "6d040b8c",
   "metadata": {},
   "outputs": [
    {
     "data": {
      "text/plain": [
       "array([[25161.23876124],\n",
       "       [31228.69458128],\n",
       "       [12567.4796748 ],\n",
       "       [28800.        ],\n",
       "       [24065.62847608],\n",
       "       [25806.25814863],\n",
       "       [23315.70391872],\n",
       "       [26654.65201465],\n",
       "       [32585.39371685],\n",
       "       [19791.66666667]])"
      ]
     },
     "execution_count": 56,
     "metadata": {},
     "output_type": "execute_result"
    }
   ],
   "source": [
    "crf_te"
   ]
  },
  {
   "cell_type": "code",
   "execution_count": null,
   "id": "f87298e2",
   "metadata": {},
   "outputs": [],
   "source": []
  }
 ],
 "metadata": {
  "kernelspec": {
   "display_name": "Python 3 (ipykernel)",
   "language": "python",
   "name": "python3"
  },
  "language_info": {
   "codemirror_mode": {
    "name": "ipython",
    "version": 3
   },
   "file_extension": ".py",
   "mimetype": "text/x-python",
   "name": "python",
   "nbconvert_exporter": "python",
   "pygments_lexer": "ipython3",
   "version": "3.11.4"
  }
 },
 "nbformat": 4,
 "nbformat_minor": 5
}
